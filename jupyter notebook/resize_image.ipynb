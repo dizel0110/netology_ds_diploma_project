{
 "cells": [
  {
   "cell_type": "markdown",
   "metadata": {},
   "source": [
    "[Python: Получить список файлов в каталоге\n",
    "](http://senkler.blogspot.com/2011/04/python.html)"
   ]
  },
  {
   "cell_type": "code",
   "execution_count": 18,
   "metadata": {},
   "outputs": [],
   "source": [
    "import cv2"
   ]
  },
  {
   "cell_type": "code",
   "execution_count": null,
   "metadata": {},
   "outputs": [],
   "source": [
    "from glob import glob"
   ]
  },
  {
   "cell_type": "code",
   "execution_count": null,
   "metadata": {},
   "outputs": [],
   "source": [
    "width, height = 640, 640\n",
    "dsize = (width,height)\n",
    "for path in glob('*.jpg'):\n",
    "    output = cv2.resize(path,dsize)\n",
    "    cv2.imwrite(,ds)"
   ]
  },
  {
   "cell_type": "code",
   "execution_count": 1,
   "metadata": {},
   "outputs": [],
   "source": [
    "import os\n",
    "directory = './image'# 'D:/dizel0110/DODO/Diplom/data/image'\n",
    "files = os.listdir(directory)\n",
    "#images = filter(lambda x: x.endswith('*.jpg'),files)"
   ]
  },
  {
   "cell_type": "code",
   "execution_count": 2,
   "metadata": {},
   "outputs": [
    {
     "data": {
      "text/plain": [
       "<filter at 0x23cd5d19488>"
      ]
     },
     "execution_count": 2,
     "metadata": {},
     "output_type": "execute_result"
    }
   ],
   "source": [
    "images"
   ]
  },
  {
   "cell_type": "code",
   "execution_count": 3,
   "metadata": {},
   "outputs": [
    {
     "data": {
      "text/plain": [
       "['image_10066.jpg',\n",
       " 'image_10098.jpg',\n",
       " 'image_1013.jpg',\n",
       " 'image_10171.jpg',\n",
       " 'image_10272.jpg',\n",
       " 'image_10288.jpg',\n",
       " 'image_10294.jpg',\n",
       " 'image_10296.jpg',\n",
       " 'image_10325.jpg',\n",
       " 'image_1037.jpg',\n",
       " 'image_1039.jpg',\n",
       " 'image_1081.jpg',\n",
       " 'image_10869.jpg',\n",
       " 'image_10924.jpg',\n",
       " 'image_11151.jpg',\n",
       " 'image_11178.jpg',\n",
       " 'image_11206.jpg',\n",
       " 'image_11223.jpg',\n",
       " 'image_11249.jpg',\n",
       " 'image_11282.jpg',\n",
       " 'image_11360.jpg',\n",
       " 'image_11490.jpg',\n",
       " 'image_11492.jpg',\n",
       " 'image_11511.jpg',\n",
       " 'image_1154.jpg',\n",
       " 'image_11578.jpg',\n",
       " 'image_11609.jpg',\n",
       " 'image_11708.jpg',\n",
       " 'image_118.jpg',\n",
       " 'image_12.jpg',\n",
       " 'image_12010.jpg',\n",
       " 'image_12018.jpg',\n",
       " 'image_12171.jpg',\n",
       " 'image_12177.jpg',\n",
       " 'image_12236.jpg',\n",
       " 'image_12260.jpg',\n",
       " 'image_12263.jpg',\n",
       " 'image_1232.jpg',\n",
       " 'image_12325.jpg',\n",
       " 'image_12354.jpg',\n",
       " 'image_12432.jpg',\n",
       " 'image_12452.jpg',\n",
       " 'image_12569.jpg',\n",
       " 'image_12603.jpg',\n",
       " 'image_12702.jpg',\n",
       " 'image_12738.jpg',\n",
       " 'image_12752.jpg',\n",
       " 'image_1277.jpg',\n",
       " 'image_12779.jpg',\n",
       " 'image_13145.jpg',\n",
       " 'image_13306.jpg',\n",
       " 'image_13344.jpg',\n",
       " 'image_13495.jpg',\n",
       " 'image_1352.jpg',\n",
       " 'image_13621.jpg',\n",
       " 'image_13867.jpg',\n",
       " 'image_13956.jpg',\n",
       " 'image_13977.jpg',\n",
       " 'image_140.jpg',\n",
       " 'image_14483.jpg',\n",
       " 'image_14645.jpg',\n",
       " 'image_14693.jpg',\n",
       " 'image_14841.jpg',\n",
       " 'image_14930.jpg',\n",
       " 'image_14932.jpg',\n",
       " 'image_1504.jpg',\n",
       " 'image_15058.jpg',\n",
       " 'image_1517.jpg',\n",
       " 'image_1536.jpg',\n",
       " 'image_1563.jpg',\n",
       " 'image_1607.jpg',\n",
       " 'image_1691.jpg',\n",
       " 'image_170.jpg',\n",
       " 'image_1713.jpg',\n",
       " 'image_1726.jpg',\n",
       " 'image_179.jpg',\n",
       " 'image_1854.jpg',\n",
       " 'image_19.jpg',\n",
       " 'image_1915.jpg',\n",
       " 'image_1918.jpg',\n",
       " 'image_1947.jpg',\n",
       " 'image_1989.jpg',\n",
       " 'image_2036.jpg',\n",
       " 'image_2057.jpg',\n",
       " 'image_2091.jpg',\n",
       " 'image_2143.jpg',\n",
       " 'image_2147.jpg',\n",
       " 'image_2175.jpg',\n",
       " 'image_2217.jpg',\n",
       " 'image_2268.jpg',\n",
       " 'image_2294.jpg',\n",
       " 'image_2312.jpg',\n",
       " 'image_2335.jpg',\n",
       " 'image_2343.jpg',\n",
       " 'image_2358.jpg',\n",
       " 'image_2420.jpg',\n",
       " 'image_2428.jpg',\n",
       " 'image_2453.jpg',\n",
       " 'image_2538.jpg',\n",
       " 'image_2652.jpg',\n",
       " 'image_2684.jpg',\n",
       " 'image_2711.jpg',\n",
       " 'image_2737.jpg',\n",
       " 'image_2747.jpg',\n",
       " 'image_2837.jpg',\n",
       " 'image_2849.jpg',\n",
       " 'image_2864.jpg',\n",
       " 'image_2907.jpg',\n",
       " 'image_2977.jpg',\n",
       " 'image_3051.jpg',\n",
       " 'image_3104.jpg',\n",
       " 'image_3190.jpg',\n",
       " 'image_3198.jpg',\n",
       " 'image_3276.jpg',\n",
       " 'image_3322.jpg',\n",
       " 'image_3400.jpg',\n",
       " 'image_3550.jpg',\n",
       " 'image_3730.jpg',\n",
       " 'image_3759.jpg',\n",
       " 'image_3770.jpg',\n",
       " 'image_3776.jpg',\n",
       " 'image_3779.jpg',\n",
       " 'image_3833.jpg',\n",
       " 'image_3863.jpg',\n",
       " 'image_3922.jpg',\n",
       " 'image_3926.jpg',\n",
       " 'image_3970.jpg',\n",
       " 'image_3988.jpg',\n",
       " 'image_3996.jpg',\n",
       " 'image_4013.jpg',\n",
       " 'image_403.jpg',\n",
       " 'image_4048.jpg',\n",
       " 'image_408.jpg',\n",
       " 'image_4163.jpg',\n",
       " 'image_4199.jpg',\n",
       " 'image_4253.jpg',\n",
       " 'image_4273.jpg',\n",
       " 'image_4286.jpg',\n",
       " 'image_4323.jpg',\n",
       " 'image_4360.jpg',\n",
       " 'image_4466.jpg',\n",
       " 'image_4481.jpg',\n",
       " 'image_457.jpg',\n",
       " 'image_4600.jpg',\n",
       " 'image_4654.jpg',\n",
       " 'image_4655.jpg',\n",
       " 'image_4683.jpg',\n",
       " 'image_4728.jpg',\n",
       " 'image_4751.jpg',\n",
       " 'image_4763.jpg',\n",
       " 'image_4929.jpg',\n",
       " 'image_5081.jpg',\n",
       " 'image_511.jpg',\n",
       " 'image_5122.jpg',\n",
       " 'image_5136.jpg',\n",
       " 'image_5154.jpg',\n",
       " 'image_519.jpg',\n",
       " 'image_5194.jpg',\n",
       " 'image_522.jpg',\n",
       " 'image_5303.jpg',\n",
       " 'image_5352.jpg',\n",
       " 'image_5506.jpg',\n",
       " 'image_5526.jpg',\n",
       " 'image_5543.jpg',\n",
       " 'image_5720.jpg',\n",
       " 'image_5732.jpg',\n",
       " 'image_5742.jpg',\n",
       " 'image_5759.jpg',\n",
       " 'image_5772.jpg',\n",
       " 'image_579.jpg',\n",
       " 'image_5868.jpg',\n",
       " 'image_5963.jpg',\n",
       " 'image_611.jpg',\n",
       " 'image_6189.jpg',\n",
       " 'image_628.jpg',\n",
       " 'image_640.jpg',\n",
       " 'image_6456.jpg',\n",
       " 'image_6576.jpg',\n",
       " 'image_6654.jpg',\n",
       " 'image_6697.jpg',\n",
       " 'image_6719.jpg',\n",
       " 'image_6745.jpg',\n",
       " 'image_6746.jpg',\n",
       " 'image_6945.jpg',\n",
       " 'image_7006.jpg',\n",
       " 'image_712.jpg',\n",
       " 'image_7186.jpg',\n",
       " 'image_7246.jpg',\n",
       " 'image_727.jpg',\n",
       " 'image_7318.jpg',\n",
       " 'image_732.jpg',\n",
       " 'image_7412.jpg',\n",
       " 'image_7451.jpg',\n",
       " 'image_7613.jpg',\n",
       " 'image_767.jpg',\n",
       " 'image_7698.jpg',\n",
       " 'image_7716.jpg',\n",
       " 'image_772.jpg',\n",
       " 'image_781.jpg',\n",
       " 'image_782.jpg',\n",
       " 'image_7892.jpg',\n",
       " 'image_7986.jpg',\n",
       " 'image_7992.jpg',\n",
       " 'image_7994.jpg',\n",
       " 'image_801.jpg',\n",
       " 'image_8021.jpg',\n",
       " 'image_8078.jpg',\n",
       " 'image_810.jpg',\n",
       " 'image_8137.jpg',\n",
       " 'image_8144.jpg',\n",
       " 'image_8170.jpg',\n",
       " 'image_8339.jpg',\n",
       " 'image_8356.jpg',\n",
       " 'image_8478.jpg',\n",
       " 'image_8566.jpg',\n",
       " 'image_8602.jpg',\n",
       " 'image_8640.jpg',\n",
       " 'image_8681.jpg',\n",
       " 'image_8705.jpg',\n",
       " 'image_8768.jpg',\n",
       " 'image_884.jpg',\n",
       " 'image_8899.jpg',\n",
       " 'image_8915.jpg',\n",
       " 'image_893.jpg',\n",
       " 'image_8948.jpg',\n",
       " 'image_8960.jpg',\n",
       " 'image_8983.jpg',\n",
       " 'image_8993.jpg',\n",
       " 'image_8997.jpg',\n",
       " 'image_911.jpg',\n",
       " 'image_9127.jpg',\n",
       " 'image_9142.jpg',\n",
       " 'image_9247.jpg',\n",
       " 'image_9299.jpg',\n",
       " 'image_9337.jpg',\n",
       " 'image_9402.jpg',\n",
       " 'image_9478.jpg',\n",
       " 'image_9537.jpg',\n",
       " 'image_955.jpg',\n",
       " 'image_9586.jpg',\n",
       " 'image_965.jpg',\n",
       " 'image_9666.jpg',\n",
       " 'image_9682.jpg',\n",
       " 'image_9716.jpg',\n",
       " 'image_9753.jpg']"
      ]
     },
     "execution_count": 3,
     "metadata": {},
     "output_type": "execute_result"
    }
   ],
   "source": [
    "files"
   ]
  },
  {
   "cell_type": "code",
   "execution_count": 4,
   "metadata": {},
   "outputs": [
    {
     "data": {
      "text/plain": [
       "245"
      ]
     },
     "execution_count": 4,
     "metadata": {},
     "output_type": "execute_result"
    }
   ],
   "source": [
    "len(files)"
   ]
  },
  {
   "cell_type": "code",
   "execution_count": 25,
   "metadata": {},
   "outputs": [
    {
     "name": "stdout",
     "output_type": "stream",
     "text": [
      "['image_10066.jpg', 'image_10098.jpg', 'image_1013.jpg', 'image_10171.jpg', 'image_10272.jpg', 'image_10288.jpg', 'image_10294.jpg', 'image_10296.jpg', 'image_10325.jpg', 'image_1037.jpg', 'image_1039.jpg', 'image_1081.jpg', 'image_10869.jpg', 'image_10924.jpg', 'image_11151.jpg', 'image_11178.jpg', 'image_11206.jpg', 'image_11223.jpg', 'image_11249.jpg', 'image_11282.jpg', 'image_11360.jpg', 'image_11490.jpg', 'image_11492.jpg', 'image_11511.jpg', 'image_1154.jpg', 'image_11578.jpg', 'image_11609.jpg', 'image_11708.jpg', 'image_118.jpg', 'image_12.jpg', 'image_12010.jpg', 'image_12018.jpg', 'image_12171.jpg', 'image_12177.jpg', 'image_12236.jpg', 'image_12260.jpg', 'image_12263.jpg', 'image_1232.jpg', 'image_12325.jpg', 'image_12354.jpg', 'image_12432.jpg', 'image_12452.jpg', 'image_12569.jpg', 'image_12603.jpg', 'image_12702.jpg', 'image_12738.jpg', 'image_12752.jpg', 'image_1277.jpg', 'image_12779.jpg', 'image_13145.jpg', 'image_13306.jpg', 'image_13344.jpg', 'image_13495.jpg', 'image_1352.jpg', 'image_13621.jpg', 'image_13867.jpg', 'image_13956.jpg', 'image_13977.jpg', 'image_140.jpg', 'image_14483.jpg', 'image_14645.jpg', 'image_14693.jpg', 'image_14841.jpg', 'image_14930.jpg', 'image_14932.jpg', 'image_1504.jpg', 'image_15058.jpg', 'image_1517.jpg', 'image_1536.jpg', 'image_1563.jpg', 'image_1607.jpg', 'image_1691.jpg', 'image_170.jpg', 'image_1713.jpg', 'image_1726.jpg', 'image_179.jpg', 'image_1854.jpg', 'image_19.jpg', 'image_1915.jpg', 'image_1918.jpg', 'image_1947.jpg', 'image_1989.jpg', 'image_2036.jpg', 'image_2057.jpg', 'image_2091.jpg', 'image_2143.jpg', 'image_2147.jpg', 'image_2175.jpg', 'image_2217.jpg', 'image_2268.jpg', 'image_2294.jpg', 'image_2312.jpg', 'image_2335.jpg', 'image_2343.jpg', 'image_2358.jpg', 'image_2420.jpg', 'image_2428.jpg', 'image_2453.jpg', 'image_2538.jpg', 'image_2652.jpg', 'image_2684.jpg', 'image_2711.jpg', 'image_2737.jpg', 'image_2747.jpg', 'image_2837.jpg', 'image_2849.jpg', 'image_2864.jpg', 'image_2907.jpg', 'image_2977.jpg', 'image_3051.jpg', 'image_3104.jpg', 'image_3190.jpg', 'image_3198.jpg', 'image_3276.jpg', 'image_3322.jpg', 'image_3400.jpg', 'image_3550.jpg', 'image_3730.jpg', 'image_3759.jpg', 'image_3770.jpg', 'image_3776.jpg', 'image_3779.jpg', 'image_3833.jpg', 'image_3863.jpg', 'image_3922.jpg', 'image_3926.jpg', 'image_3970.jpg', 'image_3988.jpg', 'image_3996.jpg', 'image_4013.jpg', 'image_403.jpg', 'image_4048.jpg', 'image_408.jpg', 'image_4163.jpg', 'image_4199.jpg', 'image_4253.jpg', 'image_4273.jpg', 'image_4286.jpg', 'image_4323.jpg', 'image_4360.jpg', 'image_4466.jpg', 'image_4481.jpg', 'image_457.jpg', 'image_4600.jpg', 'image_4654.jpg', 'image_4655.jpg', 'image_4683.jpg', 'image_4728.jpg', 'image_4751.jpg', 'image_4763.jpg', 'image_4929.jpg', 'image_5081.jpg', 'image_511.jpg', 'image_5122.jpg', 'image_5136.jpg', 'image_5154.jpg', 'image_519.jpg', 'image_5194.jpg', 'image_522.jpg', 'image_5303.jpg', 'image_5352.jpg', 'image_5506.jpg', 'image_5526.jpg', 'image_5543.jpg', 'image_5720.jpg', 'image_5732.jpg', 'image_5742.jpg', 'image_5759.jpg', 'image_5772.jpg', 'image_579.jpg', 'image_5868.jpg', 'image_5963.jpg', 'image_611.jpg', 'image_6189.jpg', 'image_628.jpg', 'image_640.jpg', 'image_6456.jpg', 'image_6576.jpg', 'image_6654.jpg', 'image_6697.jpg', 'image_6719.jpg', 'image_6745.jpg', 'image_6746.jpg', 'image_6945.jpg', 'image_7006.jpg', 'image_712.jpg', 'image_7186.jpg', 'image_7246.jpg', 'image_727.jpg', 'image_7318.jpg', 'image_732.jpg', 'image_7412.jpg', 'image_7451.jpg', 'image_7613.jpg', 'image_767.jpg', 'image_7698.jpg', 'image_7716.jpg', 'image_772.jpg', 'image_781.jpg', 'image_782.jpg', 'image_7892.jpg', 'image_7986.jpg', 'image_7992.jpg', 'image_7994.jpg', 'image_801.jpg', 'image_8021.jpg', 'image_8078.jpg', 'image_810.jpg', 'image_8137.jpg', 'image_8144.jpg', 'image_8170.jpg', 'image_8339.jpg', 'image_8356.jpg', 'image_8478.jpg', 'image_8566.jpg', 'image_8602.jpg', 'image_8640.jpg', 'image_8681.jpg', 'image_8705.jpg', 'image_8768.jpg', 'image_884.jpg', 'image_8899.jpg', 'image_8915.jpg', 'image_893.jpg', 'image_8948.jpg', 'image_8960.jpg', 'image_8983.jpg', 'image_8993.jpg', 'image_8997.jpg', 'image_911.jpg', 'image_9127.jpg', 'image_9142.jpg', 'image_9247.jpg', 'image_9299.jpg', 'image_9337.jpg', 'image_9402.jpg', 'image_9478.jpg', 'image_9537.jpg', 'image_955.jpg', 'image_9586.jpg', 'image_965.jpg', 'image_9666.jpg', 'image_9682.jpg', 'image_9716.jpg', 'image_9753.jpg']\n",
      "[]\n"
     ]
    }
   ],
   "source": [
    "for d, dirs, files in os.walk('./image'):\n",
    "    print(files)\n",
    "    print(dirs)"
   ]
  },
  {
   "cell_type": "code",
   "execution_count": 26,
   "metadata": {},
   "outputs": [],
   "source": [
    "width, height = 640, 640\n",
    "dsize = (width,height)"
   ]
  },
  {
   "cell_type": "code",
   "execution_count": 50,
   "metadata": {},
   "outputs": [
    {
     "ename": "error",
     "evalue": "OpenCV(4.4.0) C:\\Users\\appveyor\\AppData\\Local\\Temp\\1\\pip-req-build-2b5g8ysb\\opencv\\modules\\imgproc\\src\\resize.cpp:3929: error: (-215:Assertion failed) !ssize.empty() in function 'cv::resize'\n",
     "output_type": "error",
     "traceback": [
      "\u001b[1;31m---------------------------------------------------------------------------\u001b[0m",
      "\u001b[1;31merror\u001b[0m                                     Traceback (most recent call last)",
      "\u001b[1;32m<ipython-input-50-fca6d5b1fb98>\u001b[0m in \u001b[0;36m<module>\u001b[1;34m\u001b[0m\n\u001b[0;32m      2\u001b[0m     \u001b[1;32mfor\u001b[0m \u001b[0mf\u001b[0m \u001b[1;32min\u001b[0m \u001b[0mfiles\u001b[0m\u001b[1;33m:\u001b[0m\u001b[1;33m\u001b[0m\u001b[1;33m\u001b[0m\u001b[0m\n\u001b[0;32m      3\u001b[0m         \u001b[0mimage\u001b[0m \u001b[1;33m=\u001b[0m \u001b[0mcv2\u001b[0m\u001b[1;33m.\u001b[0m\u001b[0mimread\u001b[0m\u001b[1;33m(\u001b[0m\u001b[0mf\u001b[0m\u001b[1;33m,\u001b[0m\u001b[0mcv2\u001b[0m\u001b[1;33m.\u001b[0m\u001b[0mIMREAD_COLOR\u001b[0m\u001b[1;33m)\u001b[0m\u001b[1;33m\u001b[0m\u001b[1;33m\u001b[0m\u001b[0m\n\u001b[1;32m----> 4\u001b[1;33m         \u001b[0moutput\u001b[0m \u001b[1;33m=\u001b[0m \u001b[0mcv2\u001b[0m\u001b[1;33m.\u001b[0m\u001b[0mresize\u001b[0m\u001b[1;33m(\u001b[0m\u001b[0mimage\u001b[0m\u001b[1;33m,\u001b[0m\u001b[0mdsize\u001b[0m\u001b[1;33m)\u001b[0m\u001b[1;33m\u001b[0m\u001b[1;33m\u001b[0m\u001b[0m\n\u001b[0m\u001b[0;32m      5\u001b[0m         \u001b[1;31m#print('./image/'+'resize'+str(f[:-4])+'.jpg')\u001b[0m\u001b[1;33m\u001b[0m\u001b[1;33m\u001b[0m\u001b[1;33m\u001b[0m\u001b[0m\n\u001b[0;32m      6\u001b[0m         \u001b[1;31m#newname = './image/'+'resized/'+'resized'+str(f[:-4])+'.jpg'\u001b[0m\u001b[1;33m\u001b[0m\u001b[1;33m\u001b[0m\u001b[1;33m\u001b[0m\u001b[0m\n",
      "\u001b[1;31merror\u001b[0m: OpenCV(4.4.0) C:\\Users\\appveyor\\AppData\\Local\\Temp\\1\\pip-req-build-2b5g8ysb\\opencv\\modules\\imgproc\\src\\resize.cpp:3929: error: (-215:Assertion failed) !ssize.empty() in function 'cv::resize'\n"
     ]
    }
   ],
   "source": [
    "for d, dirs, files in os.walk('./image'):\n",
    "    for f in files:\n",
    "        image = cv2.imread('./image/'+f,cv2.IMREAD_COLOR)\n",
    "        output = cv2.resize(image,dsize)\n",
    "        #print('./image/'+'resized/'+'resized'+str(f[:-4])+'.jpg')\n",
    "        newname = './image/'+'resized/'+'resized'+str(f[:-4])+'.jpg'\n",
    "        cv2.imwrite(newname,output)"
   ]
  },
  {
   "cell_type": "code",
   "execution_count": null,
   "metadata": {},
   "outputs": [],
   "source": [
    "type(files[0])"
   ]
  },
  {
   "cell_type": "code",
   "execution_count": 10,
   "metadata": {},
   "outputs": [
    {
     "data": {
      "text/plain": [
       "'image_10066'"
      ]
     },
     "execution_count": 10,
     "metadata": {},
     "output_type": "execute_result"
    }
   ],
   "source": [
    "files[0][:-4]"
   ]
  },
  {
   "cell_type": "code",
   "execution_count": 41,
   "metadata": {},
   "outputs": [
    {
     "data": {
      "text/plain": [
       "numpy.ndarray"
      ]
     },
     "execution_count": 41,
     "metadata": {},
     "output_type": "execute_result"
    }
   ],
   "source": [
    "type(mask)"
   ]
  },
  {
   "cell_type": "code",
   "execution_count": 39,
   "metadata": {},
   "outputs": [
    {
     "data": {
      "text/plain": [
       "'./imageimage_9753.jpg'"
      ]
     },
     "execution_count": 39,
     "metadata": {},
     "output_type": "execute_result"
    }
   ],
   "source": [
    "'./image'+str(f)"
   ]
  },
  {
   "cell_type": "code",
   "execution_count": 42,
   "metadata": {},
   "outputs": [
    {
     "data": {
      "text/plain": [
       "array([[[116, 112, 117],\n",
       "        [116, 112, 117],\n",
       "        [114, 110, 115],\n",
       "        ...,\n",
       "        [252, 254, 254],\n",
       "        [252, 254, 254],\n",
       "        [252, 254, 254]],\n",
       "\n",
       "       [[115, 111, 116],\n",
       "        [116, 112, 117],\n",
       "        [114, 110, 115],\n",
       "        ...,\n",
       "        [252, 254, 254],\n",
       "        [252, 254, 254],\n",
       "        [252, 254, 254]],\n",
       "\n",
       "       [[115, 109, 114],\n",
       "        [115, 109, 114],\n",
       "        [112, 108, 113],\n",
       "        ...,\n",
       "        [252, 254, 254],\n",
       "        [252, 254, 254],\n",
       "        [252, 254, 254]],\n",
       "\n",
       "       ...,\n",
       "\n",
       "       [[130, 114, 121],\n",
       "        [130, 114, 121],\n",
       "        [131, 115, 122],\n",
       "        ...,\n",
       "        [252, 254, 254],\n",
       "        [252, 254, 254],\n",
       "        [252, 254, 254]],\n",
       "\n",
       "       [[130, 116, 122],\n",
       "        [130, 116, 122],\n",
       "        [130, 116, 122],\n",
       "        ...,\n",
       "        [252, 254, 254],\n",
       "        [252, 254, 254],\n",
       "        [252, 254, 254]],\n",
       "\n",
       "       [[132, 118, 124],\n",
       "        [132, 118, 124],\n",
       "        [132, 118, 124],\n",
       "        ...,\n",
       "        [252, 254, 254],\n",
       "        [252, 254, 254],\n",
       "        [252, 254, 254]]], dtype=uint8)"
      ]
     },
     "execution_count": 42,
     "metadata": {},
     "output_type": "execute_result"
    }
   ],
   "source": [
    "mask"
   ]
  },
  {
   "cell_type": "code",
   "execution_count": null,
   "metadata": {},
   "outputs": [],
   "source": []
  }
 ],
 "metadata": {
  "kernelspec": {
   "display_name": "Python 3",
   "language": "python",
   "name": "python3"
  },
  "language_info": {
   "codemirror_mode": {
    "name": "ipython",
    "version": 3
   },
   "file_extension": ".py",
   "mimetype": "text/x-python",
   "name": "python",
   "nbconvert_exporter": "python",
   "pygments_lexer": "ipython3",
   "version": "3.7.6"
  }
 },
 "nbformat": 4,
 "nbformat_minor": 4
}
